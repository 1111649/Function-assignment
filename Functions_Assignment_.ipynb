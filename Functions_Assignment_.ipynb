{
  "nbformat": 4,
  "nbformat_minor": 0,
  "metadata": {
    "colab": {
      "provenance": []
    },
    "kernelspec": {
      "name": "python3",
      "display_name": "Python 3"
    },
    "language_info": {
      "name": "python"
    }
  },
  "cells": [
    {
      "cell_type": "markdown",
      "source": [
        "#  **Functions Assignment**"
      ],
      "metadata": {
        "id": "vySfQPyH28E8"
      }
    },
    {
      "cell_type": "markdown",
      "source": [
        "# Theory Based Question --"
      ],
      "metadata": {
        "id": "Fxyvf5AV3MAj"
      }
    },
    {
      "cell_type": "markdown",
      "source": [
        "1. What is the difference between a function and a method in Python ?\n",
        "  - Function:-\n",
        "      - A block of code defined outside a class . it is not tied to any object.\n",
        "  - Method:-\n",
        "      - A function defined inside a class . it is tied to an object or class and take self (or cls) as the first parameter .\n",
        "      "
      ],
      "metadata": {
        "id": "_PLNyUAq3fKE"
      }
    },
    {
      "cell_type": "code",
      "source": [
        "# Example:- Que.1.\n",
        "# function:-\n",
        "\n",
        "def add(a,b):\n",
        "    return a+b\n",
        "\n",
        "# Method:-\n",
        "class Myclass:\n",
        "  def show(self):\n",
        "    print(\"This is a method\")"
      ],
      "metadata": {
        "id": "VICG0V5l5q8O"
      },
      "execution_count": 4,
      "outputs": []
    },
    {
      "cell_type": "markdown",
      "source": [
        "2.  Explain the concept of function arguments and parameters in Python\n",
        "   - Parameters vs Arguments — What's the difference?\n",
        "       - Parameters are like empty containers you define when you create the function.\n",
        "       - Arguments are the actual values you put into those containers when you call the function.\n"
      ],
      "metadata": {
        "id": "Elx-zFMW6jRJ"
      }
    },
    {
      "cell_type": "code",
      "source": [
        "# Example:- Que.2\n",
        "def greet(name):  # 'name' is the parameter\n",
        "    print(\"Hello\" , (name))\n",
        "\n",
        "greet(\"Jeet\")  # \"Jeet\" is the argument"
      ],
      "metadata": {
        "colab": {
          "base_uri": "https://localhost:8080/"
        },
        "id": "Lk7Hre9v7R_V",
        "outputId": "e3882ff8-023f-4d7b-a571-efcac30ee161"
      },
      "execution_count": 5,
      "outputs": [
        {
          "output_type": "stream",
          "name": "stdout",
          "text": [
            "Hello Jeet\n"
          ]
        }
      ]
    },
    {
      "cell_type": "markdown",
      "source": [
        "3. What are the different ways to define and call a function in Python ?\n",
        "\n",
        "  - Defining Functions:\n",
        "      - def keyword is used to create functions.\n",
        "      - You can define:\n",
        "      - Normal functions\n",
        "      - With default values\n",
        "      - With *args (many positional args)\n",
        "      - With **kwargs (many keyword args)\n",
        "      - Lambda (short, one-line function)\n",
        " - Calling Functions:\n",
        "      - Positional: greet(\"Jeet\")\n",
        "      - Keyword: greet(name=\"Jeet\")\n",
        "\n"
      ],
      "metadata": {
        "id": "8NquU70Z7pk1"
      }
    },
    {
      "cell_type": "markdown",
      "source": [
        "4. What is the purpose of the `return` statement in a Python function ?\n",
        "\n",
        "   - The return statement in Python is like the exit door of a function—it's how the function hands back a result to the place where it was called.\n",
        "\n",
        "   - Why use return?\n",
        "      - It sends a value back from the function.\n",
        "      - It ends the function's execution immediately.\n",
        "      - Without it, the function just does its job and returns None by default.\n",
        "\n"
      ],
      "metadata": {
        "id": "PqprQ1ni8zxK"
      }
    },
    {
      "cell_type": "code",
      "source": [
        "# Example:- Que.4\n",
        "def add(a, b):\n",
        "    return a + b\n",
        "\n",
        "result = add(2, 3)\n",
        "print(result)"
      ],
      "metadata": {
        "colab": {
          "base_uri": "https://localhost:8080/"
        },
        "id": "J6r5uS3l9ffc",
        "outputId": "f43e8b66-e065-474b-91f4-4aee15f86b27"
      },
      "execution_count": 6,
      "outputs": [
        {
          "output_type": "stream",
          "name": "stdout",
          "text": [
            "5\n"
          ]
        }
      ]
    },
    {
      "cell_type": "markdown",
      "source": [
        "5. What are iterators in Python and how do they differ from iterables?\n",
        "  - Iterable\n",
        "      - An iterable is something you can loop through—like a list, string, or tuple.\n",
        "  - Iterator\n",
        "      - An iterator is an object that remembers where you are in a loop and gives the next item when you ask for it.\n",
        ""
      ],
      "metadata": {
        "id": "B6ar2dez9pbN"
      }
    },
    {
      "cell_type": "markdown",
      "source": [
        "6. Explain the concept of generators in Python and how they are defined.\n",
        "   - A generator is a special type of function that remembers where it left off and produces values one at a time instead of all at once. It helps you save memory when dealing with large data.\n",
        "   - Instead of return, a generator uses yield to give back values one by one.\n",
        "\n"
      ],
      "metadata": {
        "id": "abpOhcS5-PK_"
      }
    },
    {
      "cell_type": "code",
      "source": [
        "# Example:- Que.6\n",
        "def count_up_to(max):\n",
        "    num = 1\n",
        "    while num <= max:\n",
        "        yield num\n",
        "        num += 1\n",
        "for num in count_up_to(5):\n",
        "    print(num)"
      ],
      "metadata": {
        "colab": {
          "base_uri": "https://localhost:8080/"
        },
        "id": "AwUwvkNj7mkI",
        "outputId": "742f5e8c-d74e-4818-93c3-b79be9542c90"
      },
      "execution_count": 12,
      "outputs": [
        {
          "output_type": "stream",
          "name": "stdout",
          "text": [
            "1\n",
            "2\n",
            "3\n",
            "4\n",
            "5\n"
          ]
        }
      ]
    },
    {
      "cell_type": "markdown",
      "source": [
        "7. What are the advantages of using generators over regular functions ?\n",
        "   - Advantages of Generators:--\n",
        "      - Memory Efficient\n",
        "      - Faster Startup Time\n",
        "      - Lazy evaluation\n",
        "      - Infinite Sequences Made Easy"
      ],
      "metadata": {
        "id": "JBlVbQnNAA4q"
      }
    },
    {
      "cell_type": "markdown",
      "source": [
        "8. What is a lambda function in Python and when is it typically used ?\n",
        "  - A lambda function is just a quick shortcut to write a tiny function in one line—without using the usual def and a name.\n",
        "  \n"
      ],
      "metadata": {
        "id": "HXJ941t7AzxC"
      }
    },
    {
      "cell_type": "markdown",
      "source": [
        "9. Explain the purpose and usage of the `map()` function in Python.\n",
        "   - The map() function is used to apply a function to every item in an iterable (like a list or tuple) and return a new iterator with the results."
      ],
      "metadata": {
        "id": "UieLhIykByHQ"
      }
    },
    {
      "cell_type": "markdown",
      "source": [
        "10. What is the difference between `map()`, `reduce()`, and `filter()` functions in Python?\n",
        "   - map(): Transform Each Item\n",
        "      - What it does: Applies a function to every item in an iterable.\n",
        "      - Result: A new iterable with transformed items.\n",
        "   - filter(): Keep Items That Match a Condition\n",
        "      - What it does: Filters items based on a condition (returns only those that are True).\n",
        "      - Result: A new iterable with selected items.\n",
        "   - reduce(): Combine All Items into One Value\n",
        "      - What it does: Repeatedly applies a function to combine items.\n",
        "      - Result: A single final value (not a list).\n",
        "\n",
        "  "
      ],
      "metadata": {
        "id": "4zNZxzfwCTAZ"
      }
    },
    {
      "cell_type": "markdown",
      "source": [
        "11.  Using pen & Paper write the internal mechanism for sum operation using  reduce function on this given\n",
        "list:[47,11,42,13];"
      ],
      "metadata": {
        "id": "UUPKdVJkFqYU"
      }
    },
    {
      "cell_type": "code",
      "source": [
        "# Que.11 [Sorry i am not able not apply image ]\n",
        "\n",
        "from functools import reduce\n",
        "\n",
        "numbers = [47, 11, 42, 13]\n",
        "\n",
        "def add(x, y):\n",
        "    return x + y\n",
        "\n",
        "result = reduce(add, numbers)\n",
        "print(result)"
      ],
      "metadata": {
        "colab": {
          "base_uri": "https://localhost:8080/"
        },
        "id": "zEEz_ytnF6Po",
        "outputId": "6a7febf4-b905-40c2-d458-a961688f132a"
      },
      "execution_count": 17,
      "outputs": [
        {
          "output_type": "stream",
          "name": "stdout",
          "text": [
            "113\n"
          ]
        }
      ]
    },
    {
      "cell_type": "markdown",
      "source": [
        "# **Practical Based Question --**"
      ],
      "metadata": {
        "id": "5G0r2j-0GcYn"
      }
    },
    {
      "cell_type": "markdown",
      "source": [
        "1. Write a Python function that takes a list of numbers as input and returns the sum of all even numbers in\n",
        "the list."
      ],
      "metadata": {
        "id": "19Gh5drTGmcL"
      }
    },
    {
      "cell_type": "code",
      "source": [
        "# Que.1, Ans:-\n",
        "my_list = [1, 2, 3, 4, 5, 6]\n",
        "result = sum_of_even_numbers(my_list)\n",
        "print(\"Sum of even numbers:\", result)"
      ],
      "metadata": {
        "colab": {
          "base_uri": "https://localhost:8080/"
        },
        "id": "oXQvPfWiGu1i",
        "outputId": "b8751174-8811-4e64-e4a8-a25d9028fe9f"
      },
      "execution_count": 19,
      "outputs": [
        {
          "output_type": "stream",
          "name": "stdout",
          "text": [
            "Sum of even numbers: 12\n"
          ]
        }
      ]
    },
    {
      "cell_type": "markdown",
      "source": [
        "2. Create a Python function that accepts a string and returns the reverse of that string."
      ],
      "metadata": {
        "id": "QwR4ocD3ITU5"
      }
    },
    {
      "cell_type": "code",
      "source": [
        "# Que.2, Ans:-\n",
        "def reverse_string(input_string):\n",
        "    return input_string[::-1]"
      ],
      "metadata": {
        "id": "j5MqdBvYH1nB"
      },
      "execution_count": 24,
      "outputs": []
    },
    {
      "cell_type": "code",
      "source": [
        "obj = reverse_string(\"Jeet\")\n",
        "print(obj)"
      ],
      "metadata": {
        "colab": {
          "base_uri": "https://localhost:8080/"
        },
        "id": "Ea1auCO5IuKN",
        "outputId": "a2fea3c9-25fe-4124-d64c-69941015c154"
      },
      "execution_count": 25,
      "outputs": [
        {
          "output_type": "stream",
          "name": "stdout",
          "text": [
            "teeJ\n"
          ]
        }
      ]
    },
    {
      "cell_type": "markdown",
      "source": [
        "3. Implement a Python function that takes a list of integers and returns a new list containing the squares of\n",
        "each number."
      ],
      "metadata": {
        "id": "O7INFDFFJ0Cq"
      }
    },
    {
      "cell_type": "code",
      "source": [
        "# Que.3, Ans:-\n",
        "def square_list(nums):\n",
        "  return [x**2 for x in nums]\n",
        "SQUARE = square_list([1,2,3,4,5])\n",
        "print(SQUARE)"
      ],
      "metadata": {
        "colab": {
          "base_uri": "https://localhost:8080/"
        },
        "id": "m2F29DlmJwWl",
        "outputId": "158d4d60-253d-4a22-b555-cde184e9a2fe"
      },
      "execution_count": 26,
      "outputs": [
        {
          "output_type": "stream",
          "name": "stdout",
          "text": [
            "[1, 4, 9, 16, 25]\n"
          ]
        }
      ]
    },
    {
      "cell_type": "markdown",
      "source": [
        "4. Write a Python function that checks if a given number is prime or not from 1 to 200"
      ],
      "metadata": {
        "id": "2WYl7oTrKZxm"
      }
    },
    {
      "cell_type": "code",
      "source": [
        "# Que.4, Ans:-\n",
        "#def is_prime(n):\n",
        "  #  if n < 1 or n > 200:\n",
        "  #      return \"Please enter a number between 1 and 200\"\n",
        " #   return n > 1 and all(n % i for i in range(1,201))\n",
        "#num = int(input(\"Enter a number between 1 and 200: \"))\n",
        "#print(\"Prime\" if is_prime(num) else \"Not Prime\")"
      ],
      "metadata": {
        "id": "a8VSENbsKYJz"
      },
      "execution_count": 42,
      "outputs": []
    },
    {
      "cell_type": "markdown",
      "source": [
        "5. Create an iterator class in Python that generates the Fibonacci sequence up to a specified number of\n",
        "terms.\n",
        "\n"
      ],
      "metadata": {
        "id": "3L_rj6JFMiSs"
      }
    },
    {
      "cell_type": "code",
      "source": [
        "# Que.5, Ans:-\n"
      ],
      "metadata": {
        "id": "ChqP5COXLPYA"
      },
      "execution_count": 39,
      "outputs": []
    },
    {
      "cell_type": "markdown",
      "source": [
        "6.  Write a generator function in Python that yields the powers of 2 up to a given exponent."
      ],
      "metadata": {
        "id": "gfWbnaI1Nf3J"
      }
    },
    {
      "cell_type": "code",
      "source": [
        "# Que.6, Ans:--\n",
        "def powers_of_two(n):\n",
        "    for i in range(n + 1):\n",
        "        yield 2 ** i\n",
        "\n",
        "for val in powers_of_two(5):\n",
        "    print(val, end=\" \")"
      ],
      "metadata": {
        "colab": {
          "base_uri": "https://localhost:8080/"
        },
        "id": "a0cNLA8aNBHU",
        "outputId": "23b383c8-5757-4568-d680-099caa3bbaea"
      },
      "execution_count": 43,
      "outputs": [
        {
          "output_type": "stream",
          "name": "stdout",
          "text": [
            "1 2 4 8 16 32 "
          ]
        }
      ]
    },
    {
      "cell_type": "markdown",
      "source": [
        "7.  Implement a generator function that reads a file line by line and yields each line as a string."
      ],
      "metadata": {
        "id": "RRAumgsPOce4"
      }
    },
    {
      "cell_type": "code",
      "source": [
        "# Que.7, Ans:--\n",
        "def read_lines(file_path):\n",
        "    with open(file_path, 'r') as file:\n",
        "        for line in file:\n",
        "            yield line.strip()\n",
        "\n",
        "for line in read_lines('jeetsoni'):\n",
        "    print(line)"
      ],
      "metadata": {
        "id": "1NkIydIDN3mZ"
      },
      "execution_count": 59,
      "outputs": []
    },
    {
      "cell_type": "markdown",
      "source": [
        "8. Use a lambda function in Python to sort a list of tuples based on the second element of each tuple."
      ],
      "metadata": {
        "id": "RRP8bs1nQB99"
      }
    },
    {
      "cell_type": "code",
      "source": [
        "# Que.8, Ans\n",
        "data = [(3, 4), (1, 2), (5, 1), (2, 3)]\n",
        "sorted_data = sorted(data, key=lambda x: x[1])\n",
        "\n",
        "print(sorted_data)"
      ],
      "metadata": {
        "colab": {
          "base_uri": "https://localhost:8080/"
        },
        "id": "rY9ycs5AQF_k",
        "outputId": "a360d441-0c0c-4b41-b51c-b37fe7592819"
      },
      "execution_count": 61,
      "outputs": [
        {
          "output_type": "stream",
          "name": "stdout",
          "text": [
            "[(5, 1), (1, 2), (2, 3), (3, 4)]\n"
          ]
        }
      ]
    },
    {
      "cell_type": "markdown",
      "source": [
        "9. Write a Python program that uses `map()` to convert a list of temperatures from Celsius to Fahrenheit."
      ],
      "metadata": {
        "id": "ID4FFGsAQeK_"
      }
    },
    {
      "cell_type": "code",
      "source": [
        "# Que.9, Ans\n",
        "celsius_temperatures = [0, 10, 20, 30, 40]\n",
        "\n",
        "fahrenheit_temperatures = list(map(lambda c: (c * 9/5) + 32, celsius_temperatures))"
      ],
      "metadata": {
        "id": "f0A_WHlDQPhy"
      },
      "execution_count": 62,
      "outputs": []
    },
    {
      "cell_type": "markdown",
      "source": [
        "10.  Create a Python program that uses `filter()` to remove all the vowels from a given string"
      ],
      "metadata": {
        "id": "A5GFYztCQ4i7"
      }
    },
    {
      "cell_type": "code",
      "source": [
        "# Que.10, Ans\n",
        "def remove_vowels(string):\n",
        "    vowels = 'aeiouAEIOU'\n",
        "    return ''.join(filter(lambda char: char not in vowels, string))\n",
        "obj = remove_vowels(\"Jeet\")\n",
        "print(obj)"
      ],
      "metadata": {
        "colab": {
          "base_uri": "https://localhost:8080/"
        },
        "id": "2bhRlVkBQyU1",
        "outputId": "4712221e-d3b9-463a-a310-c528fe577128"
      },
      "execution_count": 65,
      "outputs": [
        {
          "output_type": "stream",
          "name": "stdout",
          "text": [
            "Jt\n"
          ]
        }
      ]
    },
    {
      "cell_type": "markdown",
      "source": [
        "11.  Imagine an accounting routine used in a book shop. It works on a list with sublists, which look like this:\n"
      ],
      "metadata": {
        "id": "iyq0qkBIRP0b"
      }
    }
  ]
}